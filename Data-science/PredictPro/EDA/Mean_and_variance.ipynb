{
  "nbformat": 4,
  "nbformat_minor": 0,
  "metadata": {
    "colab": {
      "provenance": []
    },
    "kernelspec": {
      "name": "python3",
      "display_name": "Python 3"
    },
    "language_info": {
      "name": "python"
    }
  },
  "cells": [
    {
      "cell_type": "code",
      "execution_count": 10,
      "metadata": {
        "id": "kfkWDcVaH8li"
      },
      "outputs": [],
      "source": [
        "import pandas as pd\n",
        "import matplotlib.pyplot as plt"
      ]
    },
    {
      "cell_type": "code",
      "source": [
        "df = pd.read_csv('eda_part_1.csv', encoding='utf-8')"
      ],
      "metadata": {
        "id": "SyLYXWCqIc_5"
      },
      "execution_count": 3,
      "outputs": []
    },
    {
      "cell_type": "code",
      "source": [
        "# print the first 200 records\n",
        "first_200_records = df.head(200)\n",
        "print(first_200_records)"
      ],
      "metadata": {
        "colab": {
          "base_uri": "https://localhost:8080/"
        },
        "id": "VFygYYKLI-15",
        "outputId": "eda35883-a0aa-4d04-c8a5-1b1a994b0330"
      },
      "execution_count": 4,
      "outputs": [
        {
          "output_type": "stream",
          "name": "stdout",
          "text": [
            "     User_ID Product_ID  Product_Category  Purchase\n",
            "0    1000001  P00069042                 3      8370\n",
            "1    1000001  P00248942                 1     15200\n",
            "2    1000001  P00087842                12      1422\n",
            "3    1000001  P00085442                12      1057\n",
            "4    1000002  P00285442                 8      7969\n",
            "..       ...        ...               ...       ...\n",
            "195  1000035  P00106742                 3     10767\n",
            "196  1000036  P00102642                 4      2832\n",
            "197  1000036  P00127442                 1      8066\n",
            "198  1000036  P00345642                 1     15812\n",
            "199  1000036  P00357842                 5      6967\n",
            "\n",
            "[200 rows x 4 columns]\n"
          ]
        }
      ]
    },
    {
      "cell_type": "code",
      "source": [
        "# Calculate mean, median, and mode for a column of interest 'Purchase'\n",
        "mean_value = df['Purchase'].mean()\n",
        "print(f'Mean value of column: {mean_value}')"
      ],
      "metadata": {
        "colab": {
          "base_uri": "https://localhost:8080/"
        },
        "id": "llru3jdmIsZU",
        "outputId": "c40b1201-b4b1-41b4-f1e2-cf0c41462829"
      },
      "execution_count": 5,
      "outputs": [
        {
          "output_type": "stream",
          "name": "stdout",
          "text": [
            "Mean value of column: 9263.968712959126\n"
          ]
        }
      ]
    },
    {
      "cell_type": "code",
      "source": [
        "median_value = df['Purchase'].median()\n",
        "print(f'Mean value of column: {median_value}')"
      ],
      "metadata": {
        "colab": {
          "base_uri": "https://localhost:8080/"
        },
        "id": "eu5Go8fKJank",
        "outputId": "7234d508-9e04-4256-846b-6426418d118e"
      },
      "execution_count": 6,
      "outputs": [
        {
          "output_type": "stream",
          "name": "stdout",
          "text": [
            "Mean value of column: 8047.0\n"
          ]
        }
      ]
    },
    {
      "cell_type": "code",
      "source": [
        "mode_value = df['Purchase'].mode()[0]\n",
        "print(f'Mean value of column: {mode_value}')"
      ],
      "metadata": {
        "colab": {
          "base_uri": "https://localhost:8080/"
        },
        "id": "WBqWlJKQJ8fe",
        "outputId": "6f8d9b33-bc1f-44ec-f9c3-c9369919cbfb"
      },
      "execution_count": 9,
      "outputs": [
        {
          "output_type": "stream",
          "name": "stdout",
          "text": [
            "Mean value of column: 7011\n"
          ]
        }
      ]
    },
    {
      "cell_type": "code",
      "source": [
        "#Create a new figure and axis\n",
        "fig, ax = plt.subplots(figsize=(10,6))"
      ],
      "metadata": {
        "colab": {
          "base_uri": "https://localhost:8080/",
          "height": 528
        },
        "id": "NtJo6CgIL5St",
        "outputId": "dbbfa0f9-a159-4d92-c41c-a1a90da8e85e"
      },
      "execution_count": 13,
      "outputs": [
        {
          "output_type": "display_data",
          "data": {
            "text/plain": [
              "<Figure size 1000x600 with 1 Axes>"
            ],
            "image/png": "[encoded data removed]"
          },
          "metadata": {}
        }
      ]
    },
    {
      "cell_type": "code",
      "source": [
        "n, bins, patches = ax.hist(df['Purchase'], bins=50, edgecolor='black', label='Purchase Distribution')"
      ],
      "metadata": {
        "id": "TA-6GxYJMHGt"
      },
      "execution_count": 24,
      "outputs": []
    },
    {
      "cell_type": "code",
      "source": [
        "# matplotlib lines for mean and median and mode of 'Purchase' column\n",
        "plt.axvline(mean_value, color='r', linestyle='dashed', linewidth=2, label=f'Mean: {mean_value}')\n",
        "plt.axvline(median_value, color='b', linestyle='dashed', linewidth=2, label=f'Median: {median_value}')\n",
        "plt.axvline(mode_value, color='y', linestyle='dashed', linewidth=2, label=f'Mode: {mode_value}')"
      ],
      "metadata": {
        "colab": {
          "base_uri": "https://localhost:8080/",
          "height": 452
        },
        "id": "jygGQiHZKG2e",
        "outputId": "fedb8246-56f4-4311-81b6-63b20a493500"
      },
      "execution_count": 25,
      "outputs": [
        {
          "output_type": "execute_result",
          "data": {
            "text/plain": [
              "<matplotlib.lines.Line2D at 0x7df38d5f3070>"
            ]
          },
          "metadata": {},
          "execution_count": 25
        },
        {
          "output_type": "display_data",
          "data": {
            "text/plain": [
              "<Figure size 640x480 with 1 Axes>"
            ],
            "image/png": "[encoded data removed]"
          },
          "metadata": {}
        }
      ]
    },
    {
      "cell_type": "code",
      "source": [
        "# show\n",
        "ax.set_xlabel('Purchase')\n",
        "ax.set_ylabel('Frequency')\n",
        "ax.set_title('Distribution of Purchase')"
      ],
      "metadata": {
        "colab": {
          "base_uri": "https://localhost:8080/"
        },
        "id": "62F_FsEcKRo9",
        "outputId": "47f5645d-f212-46e1-8435-3139c233fad3"
      },
      "execution_count": 26,
      "outputs": [
        {
          "output_type": "execute_result",
          "data": {
            "text/plain": [
              "Text(0.5, 1.0, 'Distribution of Purchase')"
            ]
          },
          "metadata": {},
          "execution_count": 26
        }
      ]
    },
    {
      "cell_type": "code",
      "source": [
        "ax.legend()"
      ],
      "metadata": {
        "colab": {
          "base_uri": "https://localhost:8080/"
        },
        "id": "unt0NMaUM2n1",
        "outputId": "136565ca-c7a4-4fee-e748-a55c4619b7c4"
      },
      "execution_count": 28,
      "outputs": [
        {
          "output_type": "execute_result",
          "data": {
            "text/plain": [
              "<matplotlib.legend.Legend at 0x7df38d6be320>"
            ]
          },
          "metadata": {},
          "execution_count": 28
        }
      ]
    },
    {
      "cell_type": "code",
      "source": [
        "plt.show()"
      ],
      "metadata": {
        "id": "aJzV5YpHOiys"
      },
      "execution_count": 29,
      "outputs": []
    }
  ]
}