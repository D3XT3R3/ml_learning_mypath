{
  "cells": [
    {
      "cell_type": "code",
      "execution_count": 1,
      "metadata": {
        "id": "MH_UWSq5MZI9"
      },
      "outputs": [],
      "source": [
        "import numpy as np\n",
        "import pandas as pd\n",
        "import matplotlib.pyplot as plt\n",
        "import seaborn as sns"
      ]
    },
    {
      "cell_type": "code",
      "execution_count": 2,
      "metadata": {
        "id": "5h-btMDXdTrl"
      },
      "outputs": [],
      "source": [
        "# Import CSV file for data text\n",
        "df = pd.read_csv('walmart.csv', encoding='utf-8')"
      ]
    },
    {
      "cell_type": "code",
      "execution_count": 3,
      "metadata": {
        "colab": {
          "base_uri": "https://localhost:8080/"
        },
        "id": "HqZB04Lse6lt",
        "outputId": "ecbb9f02-336e-468d-adbb-5eee8e394acf"
      },
      "outputs": [
        {
          "name": "stdout",
          "output_type": "stream",
          "text": [
            "     User_ID Product_ID Gender    Age  Occupation City_Category  \\\n",
            "0    1000001  P00069042      F   0-17          10             A   \n",
            "1    1000001  P00248942      F   0-17          10             A   \n",
            "2    1000001  P00087842      F   0-17          10             A   \n",
            "3    1000001  P00085442      F   0-17          10             A   \n",
            "4    1000002  P00285442      M    55+          16             C   \n",
            "..       ...        ...    ...    ...         ...           ...   \n",
            "195  1000035  P00106742      M  46-50           1             C   \n",
            "196  1000036  P00102642      M  26-35           3             B   \n",
            "197  1000036  P00127442      M  26-35           3             B   \n",
            "198  1000036  P00345642      M  26-35           3             B   \n",
            "199  1000036  P00357842      M  26-35           3             B   \n",
            "\n",
            "    Stay_In_Current_City_Years  Marital_Status  Product_Category  Purchase  \n",
            "0                            2               0                 3      8370  \n",
            "1                            2               0                 1     15200  \n",
            "2                            2               0                12      1422  \n",
            "3                            2               0                12      1057  \n",
            "4                           4+               0                 8      7969  \n",
            "..                         ...             ...               ...       ...  \n",
            "195                         4+               1                 3     10767  \n",
            "196                          0               0                 4      2832  \n",
            "197                          0               0                 1      8066  \n",
            "198                          0               0                 1     15812  \n",
            "199                          0               0                 5      6967  \n",
            "\n",
            "[200 rows x 10 columns]\n"
          ]
        }
      ],
      "source": [
        "first_200_records = df.head(200)\n",
        "print(first_200_records)"
      ]
    },
    {
      "cell_type": "code",
      "execution_count": 5,
      "metadata": {
        "colab": {
          "base_uri": "https://localhost:8080/"
        },
        "id": "FASGpduEgQjn",
        "outputId": "a562bfd5-9b09-4b1c-8f8e-0963db237065"
      },
      "outputs": [
        {
          "name": "stdout",
          "output_type": "stream",
          "text": [
            "<class 'pandas.core.frame.DataFrame'>\n",
            "RangeIndex: 550068 entries, 0 to 550067\n",
            "Data columns (total 10 columns):\n",
            " #   Column                      Non-Null Count   Dtype \n",
            "---  ------                      --------------   ----- \n",
            " 0   User_ID                     550068 non-null  int64 \n",
            " 1   Product_ID                  550068 non-null  object\n",
            " 2   Gender                      550068 non-null  object\n",
            " 3   Age                         550068 non-null  object\n",
            " 4   Occupation                  550068 non-null  int64 \n",
            " 5   City_Category               550068 non-null  object\n",
            " 6   Stay_In_Current_City_Years  550068 non-null  object\n",
            " 7   Marital_Status              550068 non-null  int64 \n",
            " 8   Product_Category            550068 non-null  int64 \n",
            " 9   Purchase                    550068 non-null  int64 \n",
            "dtypes: int64(5), object(5)\n",
            "memory usage: 42.0+ MB\n"
          ]
        }
      ],
      "source": [
        "#Summary of info\n",
        "df.info()"
      ]
    },
    {
      "cell_type": "code",
      "execution_count": 6,
      "metadata": {
        "colab": {
          "base_uri": "https://localhost:8080/",
          "height": 398
        },
        "id": "ULLjRqm9jxxK",
        "outputId": "d3636c8b-01f1-41d8-cdd2-9c40b636f48e"
      },
      "outputs": [
        {
          "data": {
            "text/html": [
              "<div>\n",
              "<style scoped>\n",
              "    .dataframe tbody tr th:only-of-type {\n",
              "        vertical-align: middle;\n",
              "    }\n",
              "\n",
              "    .dataframe tbody tr th {\n",
              "        vertical-align: top;\n",
              "    }\n",
              "\n",
              "    .dataframe thead th {\n",
              "        text-align: right;\n",
              "    }\n",
              "</style>\n",
              "<table border=\"1\" class=\"dataframe\">\n",
              "  <thead>\n",
              "    <tr style=\"text-align: right;\">\n",
              "      <th></th>\n",
              "      <th>0</th>\n",
              "    </tr>\n",
              "  </thead>\n",
              "  <tbody>\n",
              "    <tr>\n",
              "      <th>User_ID</th>\n",
              "      <td>0</td>\n",
              "    </tr>\n",
              "    <tr>\n",
              "      <th>Product_ID</th>\n",
              "      <td>0</td>\n",
              "    </tr>\n",
              "    <tr>\n",
              "      <th>Gender</th>\n",
              "      <td>0</td>\n",
              "    </tr>\n",
              "    <tr>\n",
              "      <th>Age</th>\n",
              "      <td>0</td>\n",
              "    </tr>\n",
              "    <tr>\n",
              "      <th>Occupation</th>\n",
              "      <td>0</td>\n",
              "    </tr>\n",
              "    <tr>\n",
              "      <th>City_Category</th>\n",
              "      <td>0</td>\n",
              "    </tr>\n",
              "    <tr>\n",
              "      <th>Stay_In_Current_City_Years</th>\n",
              "      <td>0</td>\n",
              "    </tr>\n",
              "    <tr>\n",
              "      <th>Marital_Status</th>\n",
              "      <td>0</td>\n",
              "    </tr>\n",
              "    <tr>\n",
              "      <th>Product_Category</th>\n",
              "      <td>0</td>\n",
              "    </tr>\n",
              "    <tr>\n",
              "      <th>Purchase</th>\n",
              "      <td>0</td>\n",
              "    </tr>\n",
              "  </tbody>\n",
              "</table>\n",
              "</div><br><label><b>dtype:</b> int64</label>"
            ],
            "text/plain": [
              "User_ID                       0\n",
              "Product_ID                    0\n",
              "Gender                        0\n",
              "Age                           0\n",
              "Occupation                    0\n",
              "City_Category                 0\n",
              "Stay_In_Current_City_Years    0\n",
              "Marital_Status                0\n",
              "Product_Category              0\n",
              "Purchase                      0\n",
              "dtype: int64"
            ]
          },
          "execution_count": 6,
          "metadata": {},
          "output_type": "execute_result"
        }
      ],
      "source": [
        "# Check for Null Values in column\n",
        "pd.isnull(df).sum()"
      ]
    },
    {
      "cell_type": "code",
      "execution_count": 7,
      "metadata": {
        "colab": {
          "base_uri": "https://localhost:8080/"
        },
        "id": "W0ruqYpdpatP",
        "outputId": "c348706d-ea01-4b57-a218-ee22854f85ca"
      },
      "outputs": [
        {
          "name": "stdout",
          "output_type": "stream",
          "text": [
            "        User_ID Product_ID Gender    Age  Occupation City_Category  \\\n",
            "121     1000023  P00313042      M  36-45           0             B   \n",
            "126     1000024  P00248942      F  26-35           7             A   \n",
            "136     1000026  P00346642      M  26-35           7             B   \n",
            "149     1000028  P00118742      F  26-35           1             C   \n",
            "159     1000031  P00117442      M    55+           7             C   \n",
            "...         ...        ...    ...    ...         ...           ...   \n",
            "550063  1006033  P00372445      M  51-55          13             B   \n",
            "550064  1006035  P00375436      F  26-35           1             C   \n",
            "550065  1006036  P00375436      F  26-35          15             B   \n",
            "550066  1006038  P00375436      F    55+           1             C   \n",
            "550067  1006039  P00371644      F  46-50           0             B   \n",
            "\n",
            "       Stay_In_Current_City_Years  Marital_Status  Product_Category  Purchase  \n",
            "121                             3               1                 5      5183  \n",
            "126                             3               1                 1     15774  \n",
            "136                             2               1                 8      7814  \n",
            "149                             2               1                 5      8690  \n",
            "159                             2               0                 5      8596  \n",
            "...                           ...             ...               ...       ...  \n",
            "550063                          1               1                20       368  \n",
            "550064                          3               0                20       371  \n",
            "550065                         4+               1                20       137  \n",
            "550066                          2               0                20       365  \n",
            "550067                         4+               1                20       490  \n",
            "\n",
            "[546437 rows x 10 columns]\n"
          ]
        }
      ],
      "source": [
        "# Chceking duplicate values in column of interest\n",
        "duplicates = df[df['Product_ID'].duplicated()]\n",
        "print(duplicates)"
      ]
    },
    {
      "cell_type": "code",
      "execution_count": 8,
      "metadata": {
        "colab": {
          "base_uri": "https://localhost:8080/"
        },
        "id": "_InFsPWmp5Lg",
        "outputId": "eac6f8bc-f0d7-419e-d7f0-6dc55c83a865"
      },
      "outputs": [
        {
          "name": "stdout",
          "output_type": "stream",
          "text": [
            "The number is: 546437\n"
          ]
        }
      ],
      "source": [
        "# Count how many duplicate records are there:\n",
        "duplicate_count = df['Product_ID'].duplicated().sum()\n",
        "print(f'The number is: {duplicate_count}')"
      ]
    },
    {
      "cell_type": "code",
      "execution_count": 10,
      "metadata": {
        "colab": {
          "base_uri": "https://localhost:8080/"
        },
        "id": "wVpqvgw9yANW",
        "outputId": "7432a5c4-b79f-46fc-ed4e-0c7a917e8299"
      },
      "outputs": [
        {
          "name": "stdout",
          "output_type": "stream",
          "text": [
            "Maximum value in Column: 23961\n"
          ]
        }
      ],
      "source": [
        "# Check for maximum value available in column 'purchase'\n",
        "max_value = df['Purchase'].max()\n",
        "print(f'Maximum value in Column: {max_value}')"
      ]
    },
    {
      "cell_type": "code",
      "execution_count": 11,
      "metadata": {
        "colab": {
          "base_uri": "https://localhost:8080/"
        },
        "id": "pURJJa5OyZ5X",
        "outputId": "16812e81-8c25-4cfc-b37a-f222ae81416c"
      },
      "outputs": [
        {
          "name": "stdout",
          "output_type": "stream",
          "text": [
            "The minimum value in column is: 12\n"
          ]
        }
      ],
      "source": [
        "# Check for minimum value available in column 'purchase'\n",
        "min_value = df['Purchase'].min()\n",
        "print(f'The minimum value in column is: {min_value}')\n"
      ]
    },
    {
      "cell_type": "code",
      "execution_count": 16,
      "metadata": {
        "colab": {
          "base_uri": "https://localhost:8080/"
        },
        "id": "zYEEnCVTzzxV",
        "outputId": "ef4b4615-31ab-4b03-9a4d-3d896e3fdf3d"
      },
      "outputs": [
        {
          "name": "stdout",
          "output_type": "stream",
          "text": [
            "        User_ID Product_ID  Product_Category  Purchase\n",
            "0       1000001  P00069042                 3      8370\n",
            "1       1000001  P00248942                 1     15200\n",
            "2       1000001  P00087842                12      1422\n",
            "3       1000001  P00085442                12      1057\n",
            "4       1000002  P00285442                 8      7969\n",
            "...         ...        ...               ...       ...\n",
            "550063  1006033  P00372445                20       368\n",
            "550064  1006035  P00375436                20       371\n",
            "550065  1006036  P00375436                20       137\n",
            "550066  1006038  P00375436                20       365\n",
            "550067  1006039  P00371644                20       490\n",
            "\n",
            "[550068 rows x 4 columns]\n"
          ]
        }
      ],
      "source": [
        "# We will drop 'Gender', 'Age', 'Occupation', 'City_category', 'Stay_In_Current_City_Years' and 'Marital status' as our Model is not going to concentrate on those things\n",
        "df_dropped = df.drop(columns=['Gender','Age','Occupation','City_Category','Stay_In_Current_City_Years','Marital_Status'])\n",
        "print(df_dropped)\n",
        "df_dropped.to_csv('/content/eda_part_1.csv', index=False)"
      ]
    }
  ],
  "metadata": {
    "colab": {
      "provenance": []
    },
    "kernelspec": {
      "display_name": "Python 3",
      "name": "python3"
    },
    "language_info": {
      "name": "python"
    }
  },
  "nbformat": 4,
  "nbformat_minor": 0
}
